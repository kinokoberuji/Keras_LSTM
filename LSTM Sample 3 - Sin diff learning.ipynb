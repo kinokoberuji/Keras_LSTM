{
 "cells": [
  {
   "cell_type": "markdown",
   "metadata": {},
   "source": [
    "## LSTM Sample 3 - Sin diff learning\n"
   ]
  },
  {
   "cell_type": "code",
   "execution_count": 4,
   "metadata": {},
   "outputs": [],
   "source": [
    "import numpy as np # linear algebra\n",
    "import pandas # data processing, CSV file I/O (e.g. pandas.read_csv)\n",
    "import matplotlib.pyplot as plt\n",
    "%matplotlib inline"
   ]
  },
  {
   "cell_type": "code",
   "execution_count": 5,
   "metadata": {},
   "outputs": [],
   "source": [
    "from keras.models import Sequential\n",
    "from keras.layers import Dense, Dropout, Activation, Lambda, Flatten, LSTM\n",
    "from keras.layers import Conv2D, MaxPooling2D\n",
    "from keras.optimizers import Adam, RMSprop\n",
    "from keras.utils import np_utils"
   ]
  },
  {
   "cell_type": "markdown",
   "metadata": {},
   "source": [
    "Create a one dimensional array to represent the time series data. Then reformat it for LSTM.\n",
    "See https://machinelearningmastery.com/reshape-input-data-long-short-term-memory-networks-keras/ for details."
   ]
  },
  {
   "cell_type": "code",
   "execution_count": null,
   "metadata": {},
   "outputs": [],
   "source": []
  },
  {
   "cell_type": "code",
   "execution_count": null,
   "metadata": {},
   "outputs": [],
   "source": []
  },
  {
   "cell_type": "code",
   "execution_count": null,
   "metadata": {},
   "outputs": [],
   "source": []
  },
  {
   "cell_type": "code",
   "execution_count": null,
   "metadata": {},
   "outputs": [],
   "source": []
  },
  {
   "cell_type": "markdown",
   "metadata": {},
   "source": [
    "np.arrange generates numbers between 0 andt the number of samples\n",
    "np.linspace(start value, end value, number of values"
   ]
  },
  {
   "cell_type": "code",
   "execution_count": 6,
   "metadata": {},
   "outputs": [
    {
     "name": "stdout",
     "output_type": "stream",
     "text": [
      "(1000,)\n",
      "[0 1 2 3 4 5 6 7 8 9]\n",
      "(1000,)\n",
      "[0.         0.02002002 0.04004004 0.06006006 0.08008008 0.1001001\n",
      " 0.12012012 0.14014014 0.16016016 0.18018018]\n",
      "[0.         0.02001868 0.04002934 0.06002396 0.07999452 0.09993302\n",
      " 0.11983146 0.13968188 0.15947632 0.17920684]\n"
     ]
    }
   ],
   "source": [
    "numberSamples = 1000\n",
    "numericSamples = np.arange(numberSamples)\n",
    "timeSamples = np.linspace(0,20,numberSamples)\n",
    "print (numericSamples.shape)\n",
    "print (numericSamples[:10])\n",
    "print (timeSamples.shape)\n",
    "print (timeSamples[:10])\n",
    "sinSamples = np.sin(timeSamples)\n",
    "print (sinSamples[:10])"
   ]
  },
  {
   "cell_type": "code",
   "execution_count": 7,
   "metadata": {},
   "outputs": [
    {
     "data": {
      "image/png": "[encoded data removed]",
      "text/plain": [
       "<matplotlib.figure.Figure at 0x2133b6e1b70>"
      ]
     },
     "metadata": {},
     "output_type": "display_data"
    }
   ],
   "source": [
    "from matplotlib import pyplot as plt\n",
    "plt.plot(sinSamples)\n",
    "#plt.ylabel('some numbers')\n",
    "plt.xlabel('Sine wave')\n",
    "plt.show()"
   ]
  },
  {
   "cell_type": "code",
   "execution_count": 9,
   "metadata": {},
   "outputs": [
    {
     "name": "stdout",
     "output_type": "stream",
     "text": [
      "train shape :  (700,)\n",
      "test shape :  (300,)\n"
     ]
    }
   ],
   "source": [
    "# split into train and test sets\n",
    "train_size = int(len(sinSamples) * 0.70)\n",
    "test_size = len(sinSamples) - train_size\n",
    "sin_train = sinSamples[0:train_size]\n",
    "sin_test  = sinSamples[train_size:len(sinSamples)]\n",
    "print (\"train shape : \" , sin_train.shape)\n",
    "print (\"test shape : \" , sin_test.shape)\n",
    "\n",
    "\n"
   ]
  },
  {
   "cell_type": "markdown",
   "metadata": {},
   "source": [
    "The above sets up the 1-d sin data for input into a LSTM system \n"
   ]
  },
  {
   "cell_type": "code",
   "execution_count": 10,
   "metadata": {},
   "outputs": [],
   "source": [
    "def to_sequences(seq_size, obs):\n",
    "    x = []\n",
    "    y = []\n",
    "\n",
    "    for i in range(len(obs)-SEQUENCE_SIZE-1):\n",
    "        #print(i)\n",
    "        window = obs[i:(i+SEQUENCE_SIZE)]\n",
    "        after_window = obs[i+SEQUENCE_SIZE]\n",
    "        window = [[x] for x in window]\n",
    "        #print(\"{} - {}\".format(window,after_window))\n",
    "        x.append(window)\n",
    "        y.append(after_window)\n",
    "        \n",
    "    return np.array(x),np.array(y)\n",
    "    "
   ]
  },
  {
   "cell_type": "code",
   "execution_count": 11,
   "metadata": {},
   "outputs": [],
   "source": [
    "\n",
    "# Train with sequences of 10 predict 1 ahead\n"
   ]
  },
  {
   "cell_type": "code",
   "execution_count": 15,
   "metadata": {},
   "outputs": [
    {
     "name": "stdout",
     "output_type": "stream",
     "text": [
      "Shape of training set: (689, 10, 1)\n",
      "Shape of test set: (289, 10, 1)\n",
      "Shape of training output: (689,)\n",
      "Shape of test outpuy: (289,)\n"
     ]
    }
   ],
   "source": [
    "SEQUENCE_SIZE = 10\n",
    "x_train,y_train = to_sequences(SEQUENCE_SIZE,sin_train)\n",
    "x_test,y_test = to_sequences(SEQUENCE_SIZE,sin_test)\n",
    "\n",
    "print(\"Shape of training set: {}\".format(x_train.shape))\n",
    "print(\"Shape of test set: {}\".format(x_test.shape))\n",
    "print(\"Shape of training output: {}\".format(y_train.shape))\n",
    "print(\"Shape of test outpuy: {}\".format(y_test.shape))"
   ]
  },
  {
   "cell_type": "code",
   "execution_count": 14,
   "metadata": {},
   "outputs": [
    {
     "data": {
      "text/plain": [
       "array([ 0.19886554,  0.21844453,  0.23793597,  0.25733206,  0.276625  ,\n",
       "        0.29580708,  0.3148706 ,  0.33380793,  0.35261147,  0.37127369,\n",
       "        0.3897871 ,  0.4081443 ,  0.42633791,  0.44436066,  0.46220531,\n",
       "        0.47986471,  0.49733179,  0.51459954,  0.53166105,  0.54850948,\n",
       "        0.56513807,  0.58154016,  0.59770917,  0.61363863,  0.62932216,\n",
       "        0.64475345,  0.65992634,  0.67483474,  0.68947267,  0.70383427,\n",
       "        0.71791378,  0.73170556,  0.74520409,  0.75840394,  0.77129983,\n",
       "        0.7838866 ,  0.7961592 ,  0.8081127 ,  0.81974232,  0.8310434 ,\n",
       "        0.84201141,  0.85264195,  0.86293076,  0.87287371,  0.88246684,\n",
       "        0.89170627,  0.90058833,  0.90910944,  0.91726619,  0.92505531,\n",
       "        0.93247368,  0.93951832,  0.94618642,  0.9524753 ,  0.95838244,\n",
       "        0.96390547,  0.96904217,  0.9737905 ,  0.97814855,  0.98211456,\n",
       "        0.98568695,  0.9888643 ,  0.99164532,  0.9940289 ,  0.99601408,\n",
       "        0.99760007,  0.99878624,  0.99957211,  0.99995736,  0.99994184,\n",
       "        0.99952556,  0.99870867,  0.99749152,  0.99587459,  0.99385852,\n",
       "        0.99144412,  0.98863237,  0.98542438,  0.98182145,  0.97782501,\n",
       "        0.97343668,  0.9686582 ,  0.9634915 ,  0.95793864,  0.95200185,\n",
       "        0.94568351,  0.93898615,  0.93191246,  0.92446527,  0.91664757,\n",
       "        0.90846248,  0.89991329,  0.89100343,  0.88173646,  0.87211611,\n",
       "        0.86214622,  0.8518308 ,  0.84117397,  0.83018001,  0.81885332,\n",
       "        0.80719845,  0.79522006,  0.78292295,  0.77031206,  0.75739244,\n",
       "        0.74416927,  0.73064784,  0.71683358,  0.70273201,  0.68834881,\n",
       "        0.67368972,  0.65876062,  0.6435675 ,  0.62811645,  0.61241365,\n",
       "        0.59646541,  0.58027811,  0.56385824,  0.54721239,  0.53034722,\n",
       "        0.51326949,  0.49598605,  0.47850382,  0.46082982,  0.44297112,\n",
       "        0.42493488,  0.40672834,  0.38835878,  0.36983358,  0.35116015,\n",
       "        0.33234597,  0.3133986 ,  0.29432562,  0.27513468,  0.25583347,\n",
       "        0.23642973,  0.21693122,  0.19734578,  0.17768124,  0.15794548,\n",
       "        0.13814643,  0.118292  ,  0.09839017,  0.0784489 ,  0.05847619,\n",
       "        0.03848005,  0.01846848, -0.00155049, -0.02156884, -0.04157854,\n",
       "       -0.06157158, -0.08153994, -0.10147562, -0.12137064, -0.141217  ,\n",
       "       -0.16100677, -0.18073201, -0.20038482, -0.21995731, -0.23944165,\n",
       "       -0.25883002, -0.27811466, -0.29728783, -0.31634185, -0.33526908,\n",
       "       -0.35406195, -0.37271291, -0.39121449, -0.40955928, -0.42773992,\n",
       "       -0.44574912, -0.46357968, -0.48122444, -0.49867633, -0.51592836,\n",
       "       -0.53297361, -0.54980525, -0.56641654, -0.58280081, -0.5989515 ,\n",
       "       -0.61486214, -0.63052635, -0.64593786, -0.66109048, -0.67597814,\n",
       "       -0.69059488, -0.70493484, -0.71899227, -0.73276153, -0.74623711,\n",
       "       -0.75941361, -0.77228575, -0.78484836, -0.79709642, -0.80902501,\n",
       "       -0.82062935, -0.83190479, -0.84284682, -0.85345104, -0.86371322,\n",
       "       -0.87362922, -0.88319509, -0.89240698, -0.9012612 , -0.90975421,\n",
       "       -0.91788261, -0.92564312, -0.93303265, -0.94004823, -0.94668706,\n",
       "       -0.95294646, -0.95882393, -0.96431712, -0.96942382, -0.97414198,\n",
       "       -0.97846973, -0.98240531, -0.98594716, -0.98909385, -0.99184413,\n",
       "       -0.99419689, -0.99615118, -0.99770623, -0.99886141, -0.99961626,\n",
       "       -0.99997048, -0.99992392, -0.9994766 , -0.9986287 , -0.99738057,\n",
       "       -0.9957327 , -0.99368575, -0.99124054, -0.98839806, -0.98515943,\n",
       "       -0.98152597, -0.97749913, -0.97308051, -0.9682719 , -0.96307521,\n",
       "       -0.95749254, -0.95152611, -0.94517833, -0.93845173, -0.93134901,\n",
       "       -0.92387301, -0.91602674, -0.90781333, -0.89923609, -0.89029844,\n",
       "       -0.88100397, -0.87135641, -0.86135962, -0.8510176 , -0.84033451,\n",
       "       -0.82931462, -0.81796235, -0.80628225, -0.79427901, -0.78195742,\n",
       "       -0.76932244, -0.75637913, -0.74313266, -0.72958836, -0.71575164,\n",
       "       -0.70162807, -0.68722329, -0.67254307, -0.65759331, -0.64238   ,\n",
       "       -0.62690923, -0.6111872 , -0.59522021, -0.57901466, -0.56257706,\n",
       "       -0.54591398, -0.5290321 , -0.5119382 , -0.49463911, -0.47714179,\n",
       "       -0.45945322, -0.44158052, -0.42353083, -0.4053114 , -0.38692953,\n",
       "       -0.36839258, -0.34970798, -0.33088322, -0.31192585, -0.29284346,\n",
       "       -0.2736437 , -0.25433428, -0.23492291, -0.2154174 , -0.19582554,\n",
       "       -0.1761552 , -0.15641427, -0.13661064, -0.11675226, -0.09684708,\n",
       "       -0.0769031 , -0.05692829, -0.03693066, -0.01691823,  0.00310097,\n",
       "        0.02311894,  0.04312764,  0.06311905,  0.08308517,  0.10301799,\n",
       "        0.12290952,  0.14275178,  0.16253684,  0.18225675,  0.20190362,\n",
       "        0.22146956,  0.24094675,  0.26032736,  0.27960364,  0.29876786,\n",
       "        0.31781233,  0.33672943,  0.35551157,  0.37415123,  0.39264093,\n",
       "        0.41097327,  0.42914089,  0.44713652,  0.46495294,  0.48258302,\n",
       "        0.50001968,  0.51725594,  0.53428489,  0.5510997 ,  0.56769364,\n",
       "        0.58406006,  0.60019239,  0.61608417,  0.63172904,  0.64712071,\n",
       "        0.66225303,  0.67711992,  0.69171543,  0.70603371,  0.72006902,\n",
       "        0.73381574,  0.74726835,  0.76042146,  0.77326981,  0.78580824,\n",
       "        0.79803173,  0.80993537,  0.82151441,  0.83276419,  0.84368021,\n",
       "        0.85425809,  0.8644936 ,  0.87438263,  0.88392121,  0.89310553,\n",
       "        0.90193191,  0.9103968 ,  0.91849682,  0.92622871,  0.93358938,\n",
       "        0.94057589,  0.94718542,  0.95341533,  0.95926312,  0.96472645,\n",
       "        0.96980313,  0.97449113,  0.97878856,  0.9826937 ,  0.986205  ,\n",
       "        0.98932103,  0.99204056,  0.99436249,  0.99628589,  0.99780999,\n",
       "        0.99893418,  0.99965801,  0.99998119,  0.99990359,  0.99942524,\n",
       "        0.99854633,  0.99726722,  0.99558841,  0.99351059,  0.99103458,\n",
       "        0.98816137,  0.98489212,  0.98122814,  0.97717089,  0.97272201,\n",
       "        0.96788327,  0.96265661,  0.95704414,  0.95104809,  0.94467087,\n",
       "        0.93791504,  0.93078331,  0.92327853,  0.91540371,  0.90716201,\n",
       "        0.89855673,  0.88959131,  0.88026936,  0.87059461,  0.86057094,\n",
       "        0.85020236,  0.83949303,  0.82844724,  0.81706941,  0.80536412,\n",
       "        0.79333605,  0.78099002,  0.76833097,  0.75536399,  0.74209427,\n",
       "        0.72852712,  0.71466799,  0.70052243,  0.68609611,  0.67139481,\n",
       "        0.65642443,  0.64119095,  0.6257005 ,  0.60995927,  0.59397358,\n",
       "        0.57774983,  0.56129452,  0.54461426,  0.52771572,  0.51060568,\n",
       "        0.49329099,  0.4757786 ,  0.45807552,  0.44018886,  0.42212577,\n",
       "        0.40389349,  0.38549934,  0.36695069,  0.34825497,  0.32941967,\n",
       "        0.31045234,  0.29136059,  0.27215207,  0.25283447,  0.23341553,\n",
       "        0.21390305,  0.19430484,  0.17462875,  0.15488267,  0.13507452,\n",
       "        0.11521223,  0.09530377,  0.07535711,  0.05538024,  0.03538119,\n",
       "        0.01536795, -0.00465145, -0.02466899, -0.04467663, -0.06466637,\n",
       "       -0.0846302 , -0.1045601 , -0.1244481 , -0.14428622, -0.16406652,\n",
       "       -0.18378105, -0.20342193, -0.22298128, -0.24245127, -0.26182408,\n",
       "       -0.28109195, -0.30024717, -0.31928205, -0.33818897, -0.35696034,\n",
       "       -0.37558865, -0.39406643, -0.41238627, -0.43054084, -0.44852284,\n",
       "       -0.46632509, -0.48394043, -0.50136182, -0.51858227, -0.53559488,\n",
       "       -0.55239283, -0.56896939, -0.58531791, -0.60143184, -0.61730472,\n",
       "       -0.6329302 , -0.64830201, -0.66341398, -0.67826007, -0.69283431,\n",
       "       -0.70713088, -0.72114404, -0.73486818, -0.74829778, -0.76142748,\n",
       "       -0.77425201, -0.78676623, -0.79896512, -0.81084379, -0.82239749,\n",
       "       -0.83362158, -0.84451157, -0.85506308, -0.8652719 , -0.87513393,\n",
       "       -0.88464521, -0.89380194, -0.90260045, -0.9110372 , -0.91910882,\n",
       "       -0.92681207, -0.93414387, -0.94110128, -0.9476815 , -0.9538819 ,\n",
       "       -0.9597    , -0.96513346, -0.97018011, -0.97483792, -0.97910503,\n",
       "       -0.98297973, -0.98646046, -0.98954583, -0.9922346 , -0.9945257 ,\n",
       "       -0.9964182 , -0.99791135, -0.99900454, -0.99969735, -0.9999895 ,\n",
       "       -0.99988086, -0.99937148, -0.99846156, -0.99715147, -0.99544174,\n",
       "       -0.99333304, -0.99082623, -0.98792231, -0.98462244, -0.98092795,\n",
       "       -0.97684031, -0.97236117, -0.96749231, -0.9622357 , -0.95659343,\n",
       "       -0.95056778, -0.94416115, -0.93737611, -0.93021538, -0.92268183,\n",
       "       -0.91477848, -0.9065085 , -0.8978752 , -0.88888205, -0.87953264,\n",
       "       -0.86983072, -0.85978019, -0.84938507, -0.83864953, -0.82757786,\n",
       "       -0.81617451, -0.80444405, -0.79239118, -0.78002073, -0.76733765,\n",
       "       -0.75434704, -0.74105409, -0.72746414, -0.71358262, -0.69941512,\n",
       "       -0.68496729, -0.67024494, -0.65525396, -0.64000037, -0.62449027,\n",
       "       -0.60872988, -0.59272552, -0.5764836 , -0.56001064, -0.54331323,\n",
       "       -0.52639807, -0.50927193, -0.49194168, -0.47441427, -0.45669672,\n",
       "       -0.43879613, -0.42071968, -0.40247461, -0.38406823, -0.36550792,\n",
       "       -0.34680112, -0.32795533, -0.30897809, -0.28987702, -0.27065978,\n",
       "       -0.25133405, -0.23190759, -0.21238819, -0.19278367, -0.17310187,\n",
       "       -0.15335071, -0.13353808, -0.11367193, -0.09376022, -0.07381094,\n",
       "       -0.05383207, -0.03383162, -0.01381762,  0.00620192,  0.02621897,\n",
       "        0.04622552,  0.06621354,  0.08617502,  0.10610197,  0.12598639,\n",
       "        0.14582031,  0.1655958 ,  0.18530491,  0.20493976,  0.22449247,\n",
       "        0.2439552 ,  0.26332016,  0.28257959,  0.30172576,  0.320751  ,\n",
       "        0.33964769,  0.35840826,  0.37702517,  0.39549099,  0.41379829,\n",
       "        0.43193975,  0.44990809,  0.46769611,  0.48529669,  0.50270276,\n",
       "        0.51990736,  0.53690359,  0.55368463,  0.57024376,  0.58657434,\n",
       "        0.60266984,  0.61852379,  0.63412984,  0.64948174,  0.66457334,\n",
       "        0.67939858,  0.69395153,  0.70822636,  0.72221733,  0.73591885,\n",
       "        0.74932542,  0.76243167,  0.77523235,  0.78772232,  0.79989658,\n",
       "        0.81175026,  0.8232786 ,  0.83447697,  0.8453409 ,  0.85586602,\n",
       "        0.86604813,  0.87588313,  0.88536709,  0.8944962 ,  0.90326682,\n",
       "        0.91167541,  0.91971861,  0.92739321,  0.93469611,  0.9416244 ,\n",
       "        0.9481753 ,  0.95434618,  0.96013458,  0.96553816,  0.97055476,\n",
       "        0.97518238,  0.97941916,  0.9832634 ,  0.98671355])"
      ]
     },
     "execution_count": 14,
     "metadata": {},
     "output_type": "execute_result"
    }
   ],
   "source": [
    "y_train"
   ]
  },
  {
   "cell_type": "code",
   "execution_count": null,
   "metadata": {},
   "outputs": [],
   "source": [
    "print('Build model...')\n",
    "model = Sequential()\n",
    "model.add(LSTM(64, input_shape=(None, 1)))\n",
    "model.add(Dense(32))\n",
    "model.add(Dense(1))\n",
    "model.compile(loss='mean_squared_error', optimizer='adam')\n",
    "\n",
    "#monitor = EarlyStopping(monitor='val_loss', min_delta=1e-3, patience=5, verbose=1, mode='auto')\n",
    "print('Train...')\n",
    "\n"
   ]
  },
  {
   "cell_type": "code",
   "execution_count": null,
   "metadata": {},
   "outputs": [],
   "source": [
    "model.fit(x_train,y_train,validation_data=(x_test,y_test),verbose=2,epochs=100)"
   ]
  },
  {
   "cell_type": "code",
   "execution_count": null,
   "metadata": {},
   "outputs": [],
   "source": [
    "trainPredict = model.predict(x_train)\n",
    "testPredict = model.predict(x_test)\n"
   ]
  },
  {
   "cell_type": "code",
   "execution_count": null,
   "metadata": {
    "scrolled": true
   },
   "outputs": [],
   "source": [
    "from matplotlib import pyplot as plt\n",
    "# plot baseline and predictions\n",
    "plt.plot(sinSamples, linestyle=':')\n",
    "\n",
    "plt.plot(trainPredict)\n",
    "list = np.arange(len(trainPredict)+10,len(trainPredict)+len(testPredict)+10)\n",
    "plt.plot(list,testPredict)"
   ]
  },
  {
   "cell_type": "code",
   "execution_count": null,
   "metadata": {},
   "outputs": [],
   "source": [
    "\n"
   ]
  },
  {
   "cell_type": "code",
   "execution_count": null,
   "metadata": {},
   "outputs": [],
   "source": []
  },
  {
   "cell_type": "code",
   "execution_count": null,
   "metadata": {},
   "outputs": [],
   "source": []
  },
  {
   "cell_type": "code",
   "execution_count": null,
   "metadata": {},
   "outputs": [],
   "source": []
  },
  {
   "cell_type": "code",
   "execution_count": null,
   "metadata": {},
   "outputs": [],
   "source": []
  },
  {
   "cell_type": "code",
   "execution_count": null,
   "metadata": {},
   "outputs": [],
   "source": []
  },
  {
   "cell_type": "code",
   "execution_count": null,
   "metadata": {},
   "outputs": [],
   "source": []
  },
  {
   "cell_type": "code",
   "execution_count": null,
   "metadata": {},
   "outputs": [],
   "source": []
  },
  {
   "cell_type": "code",
   "execution_count": null,
   "metadata": {},
   "outputs": [],
   "source": []
  },
  {
   "cell_type": "code",
   "execution_count": null,
   "metadata": {},
   "outputs": [],
   "source": []
  },
  {
   "cell_type": "code",
   "execution_count": null,
   "metadata": {},
   "outputs": [],
   "source": []
  },
  {
   "cell_type": "code",
   "execution_count": null,
   "metadata": {},
   "outputs": [],
   "source": []
  },
  {
   "cell_type": "code",
   "execution_count": null,
   "metadata": {},
   "outputs": [],
   "source": []
  },
  {
   "cell_type": "code",
   "execution_count": null,
   "metadata": {},
   "outputs": [],
   "source": []
  },
  {
   "cell_type": "code",
   "execution_count": null,
   "metadata": {},
   "outputs": [],
   "source": []
  },
  {
   "cell_type": "code",
   "execution_count": null,
   "metadata": {},
   "outputs": [],
   "source": []
  },
  {
   "cell_type": "code",
   "execution_count": null,
   "metadata": {},
   "outputs": [],
   "source": []
  },
  {
   "cell_type": "code",
   "execution_count": null,
   "metadata": {},
   "outputs": [],
   "source": []
  },
  {
   "cell_type": "code",
   "execution_count": null,
   "metadata": {},
   "outputs": [],
   "source": []
  },
  {
   "cell_type": "code",
   "execution_count": null,
   "metadata": {},
   "outputs": [],
   "source": []
  },
  {
   "cell_type": "code",
   "execution_count": null,
   "metadata": {},
   "outputs": [],
   "source": []
  }
 ],
 "metadata": {
  "kernelspec": {
   "display_name": "Python 3",
   "language": "python",
   "name": "python3"
  },
  "language_info": {
   "codemirror_mode": {
    "name": "ipython",
    "version": 3
   },
   "file_extension": ".py",
   "mimetype": "text/x-python",
   "name": "python",
   "nbconvert_exporter": "python",
   "pygments_lexer": "ipython3",
   "version": "3.6.4"
  }
 },
 "nbformat": 4,
 "nbformat_minor": 2
}
