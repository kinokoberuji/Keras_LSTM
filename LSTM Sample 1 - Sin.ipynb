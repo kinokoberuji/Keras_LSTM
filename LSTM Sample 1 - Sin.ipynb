{
 "cells": [
  {
   "cell_type": "markdown",
   "metadata": {},
   "source": [
    "# LSTM Sample 1 - Sin\n"
   ]
  },
  {
   "cell_type": "code",
   "execution_count": 1,
   "metadata": {},
   "outputs": [],
   "source": [
    "import numpy as np # linear algebra\n",
    "import pandas # data processing, CSV file I/O (e.g. pandas.read_csv)\n",
    "import matplotlib.pyplot as plt\n",
    "%matplotlib inline"
   ]
  },
  {
   "cell_type": "code",
   "execution_count": 35,
   "metadata": {},
   "outputs": [],
   "source": [
    "from keras.models import Sequential\n",
    "from keras.layers import Dense, Dropout, Activation, Lambda, Flatten, LSTM\n",
    "from keras.layers import Conv2D, MaxPooling2D\n",
    "from keras.optimizers import Adam, RMSprop\n",
    "from keras.utils import np_utils"
   ]
  },
  {
   "cell_type": "markdown",
   "metadata": {},
   "source": [
    "Create a one dimensional array to represent the time series data. Then reformat it for LSTM.\n",
    "See https://machinelearningmastery.com/reshape-input-data-long-short-term-memory-networks-keras/ for details."
   ]
  },
  {
   "cell_type": "code",
   "execution_count": 3,
   "metadata": {},
   "outputs": [
    {
     "name": "stdout",
     "output_type": "stream",
     "text": [
      "(10,)\n",
      "(1, 10, 1)\n"
     ]
    }
   ],
   "source": [
    "from numpy import array\n",
    "data = array([0.1, 0.2, 0.3, 0.4, 0.5, 0.6, 0.7, 0.8, 0.9, 1.0])\n",
    "data2 = data.reshape((1, 10, 1))\n",
    "print (data.shape)\n",
    "print (data2.shape)"
   ]
  },
  {
   "cell_type": "code",
   "execution_count": 4,
   "metadata": {},
   "outputs": [
    {
     "name": "stdout",
     "output_type": "stream",
     "text": [
      "[0.1 0.2 0.3 0.4 0.5 0.6 0.7 0.8 0.9 1. ]\n",
      "[[[0.1]\n",
      "  [0.2]\n",
      "  [0.3]\n",
      "  [0.4]\n",
      "  [0.5]\n",
      "  [0.6]\n",
      "  [0.7]\n",
      "  [0.8]\n",
      "  [0.9]\n",
      "  [1. ]]]\n"
     ]
    }
   ],
   "source": [
    "print (data)\n",
    "print (data2)"
   ]
  },
  {
   "cell_type": "code",
   "execution_count": 5,
   "metadata": {},
   "outputs": [],
   "source": [
    "data2D = array([\n",
    "\t[0.1, 1.0],\n",
    "\t[0.2, 0.9],\n",
    "\t[0.3, 0.8],\n",
    "\t[0.4, 0.7],\n",
    "\t[0.5, 0.6],\n",
    "\t[0.6, 0.5],\n",
    "\t[0.7, 0.4],\n",
    "\t[0.8, 0.3],\n",
    "\t[0.9, 0.2],\n",
    "\t[1.0, 0.1]])\n",
    "\t\n",
    "data2Dshaped = data2D.reshape(1, 10, 2)"
   ]
  },
  {
   "cell_type": "code",
   "execution_count": 6,
   "metadata": {},
   "outputs": [
    {
     "name": "stdout",
     "output_type": "stream",
     "text": [
      "[[0.1 1. ]\n",
      " [0.2 0.9]\n",
      " [0.3 0.8]\n",
      " [0.4 0.7]\n",
      " [0.5 0.6]\n",
      " [0.6 0.5]\n",
      " [0.7 0.4]\n",
      " [0.8 0.3]\n",
      " [0.9 0.2]\n",
      " [1.  0.1]]\n",
      "[[[0.1 1. ]\n",
      "  [0.2 0.9]\n",
      "  [0.3 0.8]\n",
      "  [0.4 0.7]\n",
      "  [0.5 0.6]\n",
      "  [0.6 0.5]\n",
      "  [0.7 0.4]\n",
      "  [0.8 0.3]\n",
      "  [0.9 0.2]\n",
      "  [1.  0.1]]]\n"
     ]
    }
   ],
   "source": [
    "print (data2D)\n",
    "print (data2Dshaped)"
   ]
  },
  {
   "cell_type": "markdown",
   "metadata": {},
   "source": [
    "np.arrange generates numbers between 0 andt the number of samples\n",
    "np.linspace(start value, end value, number of values"
   ]
  },
  {
   "cell_type": "code",
   "execution_count": 7,
   "metadata": {},
   "outputs": [
    {
     "name": "stdout",
     "output_type": "stream",
     "text": [
      "(1000,)\n",
      "[0 1 2 3 4 5 6 7 8 9]\n",
      "(1000,)\n",
      "[0.         0.02002002 0.04004004 0.06006006 0.08008008 0.1001001\n",
      " 0.12012012 0.14014014 0.16016016 0.18018018]\n",
      "[0.         0.02001868 0.04002934 0.06002396 0.07999452 0.09993302\n",
      " 0.11983146 0.13968188 0.15947632 0.17920684]\n"
     ]
    }
   ],
   "source": [
    "numberSamples = 1000\n",
    "numericSamples = np.arange(numberSamples)\n",
    "timeSamples = np.linspace(0,20,numberSamples)\n",
    "print (numericSamples.shape)\n",
    "print (numericSamples[:10])\n",
    "print (timeSamples.shape)\n",
    "print (timeSamples[:10])\n",
    "sinSamples = np.sin(timeSamples)\n",
    "print (sinSamples[:10])"
   ]
  },
  {
   "cell_type": "code",
   "execution_count": 8,
   "metadata": {},
   "outputs": [
    {
     "data": {
      "image/png": "[encoded data removed]",
      "text/plain": [
       "<matplotlib.figure.Figure at 0x26c311d16a0>"
      ]
     },
     "metadata": {},
     "output_type": "display_data"
    }
   ],
   "source": [
    "from matplotlib import pyplot as plt\n",
    "plt.plot(sinSamples)\n",
    "#plt.ylabel('some numbers')\n",
    "plt.xlabel('Sine wave')\n",
    "plt.show()"
   ]
  },
  {
   "cell_type": "code",
   "execution_count": 32,
   "metadata": {},
   "outputs": [
    {
     "name": "stdout",
     "output_type": "stream",
     "text": [
      "train shape :  (700,)\n",
      "test shape :  (300,)\n"
     ]
    }
   ],
   "source": [
    "# split into train and test sets\n",
    "train_size = int(len(sinSamples) * 0.70)\n",
    "test_size = len(sinSamples) - train_size\n",
    "sin_train = sinSamples[0:train_size]\n",
    "sin_test  = sinSamples[train_size:len(sinSamples)]\n",
    "print (\"train shape : \" , train.shape)\n",
    "print (\"test shape : \" , test.shape)\n",
    "\n",
    "\n"
   ]
  },
  {
   "cell_type": "markdown",
   "metadata": {},
   "source": [
    "The above sets up the 1-d sin data for input into a LSTM system \n"
   ]
  },
  {
   "cell_type": "code",
   "execution_count": 29,
   "metadata": {},
   "outputs": [],
   "source": [
    "def to_sequences(seq_size, obs):\n",
    "    x = []\n",
    "    y = []\n",
    "\n",
    "    for i in range(len(obs)-SEQUENCE_SIZE-1):\n",
    "        #print(i)\n",
    "        window = obs[i:(i+SEQUENCE_SIZE)]\n",
    "        after_window = obs[i+SEQUENCE_SIZE]\n",
    "        window = [[x] for x in window]\n",
    "        #print(\"{} - {}\".format(window,after_window))\n",
    "        x.append(window)\n",
    "        y.append(after_window)\n",
    "        \n",
    "    return np.array(x),np.array(y)\n",
    "    "
   ]
  },
  {
   "cell_type": "code",
   "execution_count": 30,
   "metadata": {},
   "outputs": [],
   "source": [
    "# convert an array of values into a dataset matrix\n",
    "def create_dataset(dataset, look_back=1):\n",
    "\tdataX, dataY = [], []\n",
    "\tfor i in range(len(dataset)-look_back-1):\n",
    "\t\ta = dataset[i:(i+look_back), 0]\n",
    "\t\tdataX.append(a)\n",
    "\t\tdataY.append(dataset[i + look_back, 0])\n",
    "\treturn numpy.array(dataX), numpy.array(dataY)"
   ]
  },
  {
   "cell_type": "code",
   "execution_count": 33,
   "metadata": {},
   "outputs": [
    {
     "name": "stdout",
     "output_type": "stream",
     "text": [
      "Shape of training set: (689, 10, 1)\n",
      "Shape of test set: (289, 10, 1)\n"
     ]
    }
   ],
   "source": [
    "SEQUENCE_SIZE = 10\n",
    "x_train,y_train = to_sequences(SEQUENCE_SIZE,sin_train)\n",
    "x_test,y_test = to_sequences(SEQUENCE_SIZE,sin_test)\n",
    "\n",
    "print(\"Shape of training set: {}\".format(x_train.shape))\n",
    "print(\"Shape of test set: {}\".format(x_test.shape))"
   ]
  },
  {
   "cell_type": "code",
   "execution_count": 60,
   "metadata": {},
   "outputs": [
    {
     "name": "stdout",
     "output_type": "stream",
     "text": [
      "Build model...\n",
      "Train...\n"
     ]
    }
   ],
   "source": [
    "print('Build model...')\n",
    "model = Sequential()\n",
    "model.add(LSTM(64, input_shape=(None, 1)))\n",
    "model.add(Dense(32))\n",
    "model.add(Dense(1))\n",
    "model.compile(loss='mean_squared_error', optimizer='adam')\n",
    "\n",
    "#monitor = EarlyStopping(monitor='val_loss', min_delta=1e-3, patience=5, verbose=1, mode='auto')\n",
    "print('Train...')\n",
    "\n"
   ]
  },
  {
   "cell_type": "code",
   "execution_count": 61,
   "metadata": {},
   "outputs": [
    {
     "name": "stdout",
     "output_type": "stream",
     "text": [
      "Train on 689 samples, validate on 289 samples\n",
      "Epoch 1/100\n",
      " - 2s - loss: 0.1358 - val_loss: 0.0236\n",
      "Epoch 2/100\n",
      " - 0s - loss: 0.0082 - val_loss: 0.0044\n",
      "Epoch 3/100\n",
      " - 0s - loss: 0.0042 - val_loss: 0.0041\n",
      "Epoch 4/100\n",
      " - 0s - loss: 0.0034 - val_loss: 0.0038\n",
      "Epoch 5/100\n",
      " - 0s - loss: 0.0033 - val_loss: 0.0035\n",
      "Epoch 6/100\n",
      " - 0s - loss: 0.0032 - val_loss: 0.0033\n",
      "Epoch 7/100\n",
      " - 0s - loss: 0.0032 - val_loss: 0.0032\n",
      "Epoch 8/100\n",
      " - 0s - loss: 0.0031 - val_loss: 0.0030\n",
      "Epoch 9/100\n",
      " - 0s - loss: 0.0029 - val_loss: 0.0029\n",
      "Epoch 10/100\n",
      " - 0s - loss: 0.0027 - val_loss: 0.0028\n",
      "Epoch 11/100\n",
      " - 0s - loss: 0.0025 - val_loss: 0.0026\n",
      "Epoch 12/100\n",
      " - 0s - loss: 0.0024 - val_loss: 0.0025\n",
      "Epoch 13/100\n",
      " - 0s - loss: 0.0022 - val_loss: 0.0022\n",
      "Epoch 14/100\n",
      " - 0s - loss: 0.0020 - val_loss: 0.0021\n",
      "Epoch 15/100\n",
      " - 0s - loss: 0.0018 - val_loss: 0.0018\n",
      "Epoch 16/100\n",
      " - 0s - loss: 0.0016 - val_loss: 0.0016\n",
      "Epoch 17/100\n",
      " - 0s - loss: 0.0014 - val_loss: 0.0014\n",
      "Epoch 18/100\n",
      " - 0s - loss: 0.0012 - val_loss: 0.0011\n",
      "Epoch 19/100\n",
      " - 0s - loss: 9.6217e-04 - val_loss: 0.0010\n",
      "Epoch 20/100\n",
      " - 0s - loss: 7.7235e-04 - val_loss: 8.0482e-04\n",
      "Epoch 21/100\n",
      " - 0s - loss: 6.1790e-04 - val_loss: 5.8192e-04\n",
      "Epoch 22/100\n",
      " - 0s - loss: 4.0167e-04 - val_loss: 3.4826e-04\n",
      "Epoch 23/100\n",
      " - 0s - loss: 2.5355e-04 - val_loss: 2.9177e-04\n",
      "Epoch 24/100\n",
      " - 0s - loss: 1.7525e-04 - val_loss: 1.4126e-04\n",
      "Epoch 25/100\n",
      " - 0s - loss: 1.1024e-04 - val_loss: 8.9564e-05\n",
      "Epoch 26/100\n",
      " - 0s - loss: 7.6464e-05 - val_loss: 5.9921e-05\n",
      "Epoch 27/100\n",
      " - 0s - loss: 4.1455e-05 - val_loss: 4.1130e-05\n",
      "Epoch 28/100\n",
      " - 0s - loss: 3.6942e-05 - val_loss: 4.0646e-05\n",
      "Epoch 29/100\n",
      " - 0s - loss: 2.9653e-05 - val_loss: 2.7881e-05\n",
      "Epoch 30/100\n",
      " - 0s - loss: 2.2697e-05 - val_loss: 2.1660e-05\n",
      "Epoch 31/100\n",
      " - 0s - loss: 2.3287e-05 - val_loss: 2.4742e-05\n",
      "Epoch 32/100\n",
      " - 0s - loss: 2.4006e-05 - val_loss: 3.3231e-05\n",
      "Epoch 33/100\n",
      " - 0s - loss: 1.7125e-05 - val_loss: 2.4213e-05\n",
      "Epoch 34/100\n",
      " - 0s - loss: 1.5448e-05 - val_loss: 1.2990e-05\n",
      "Epoch 35/100\n",
      " - 0s - loss: 1.3371e-05 - val_loss: 1.0582e-05\n",
      "Epoch 36/100\n",
      " - 0s - loss: 1.2919e-05 - val_loss: 1.4567e-05\n",
      "Epoch 37/100\n",
      " - 0s - loss: 1.1157e-05 - val_loss: 1.4363e-05\n",
      "Epoch 38/100\n",
      " - 0s - loss: 1.2014e-05 - val_loss: 8.3133e-06\n",
      "Epoch 39/100\n",
      " - 0s - loss: 1.7662e-05 - val_loss: 7.5471e-06\n",
      "Epoch 40/100\n",
      " - 0s - loss: 8.5247e-06 - val_loss: 5.8738e-06\n",
      "Epoch 41/100\n",
      " - 0s - loss: 6.6213e-06 - val_loss: 1.3029e-05\n",
      "Epoch 42/100\n",
      " - 0s - loss: 9.3070e-06 - val_loss: 5.2651e-06\n",
      "Epoch 43/100\n",
      " - 0s - loss: 5.7215e-06 - val_loss: 5.2189e-06\n",
      "Epoch 44/100\n",
      " - 0s - loss: 6.4702e-06 - val_loss: 1.4009e-05\n",
      "Epoch 45/100\n",
      " - 0s - loss: 8.1346e-06 - val_loss: 8.4193e-06\n",
      "Epoch 46/100\n",
      " - 0s - loss: 1.1787e-05 - val_loss: 8.8741e-06\n",
      "Epoch 47/100\n",
      " - 0s - loss: 9.7742e-06 - val_loss: 1.8244e-05\n",
      "Epoch 48/100\n",
      " - 0s - loss: 6.8541e-06 - val_loss: 7.4315e-06\n",
      "Epoch 49/100\n",
      " - 0s - loss: 4.5823e-06 - val_loss: 3.3044e-06\n",
      "Epoch 50/100\n",
      " - 0s - loss: 4.3581e-06 - val_loss: 3.5717e-06\n",
      "Epoch 51/100\n",
      " - 0s - loss: 4.0309e-06 - val_loss: 3.1375e-06\n",
      "Epoch 52/100\n",
      " - 0s - loss: 4.8873e-06 - val_loss: 6.3572e-06\n",
      "Epoch 53/100\n",
      " - 0s - loss: 4.3912e-06 - val_loss: 4.6205e-06\n",
      "Epoch 54/100\n",
      " - 0s - loss: 4.9037e-06 - val_loss: 6.7415e-06\n",
      "Epoch 55/100\n",
      " - 0s - loss: 4.5535e-06 - val_loss: 2.8668e-06\n",
      "Epoch 56/100\n",
      " - 0s - loss: 4.8037e-06 - val_loss: 9.6097e-06\n",
      "Epoch 57/100\n",
      " - 0s - loss: 5.0317e-06 - val_loss: 8.3352e-06\n",
      "Epoch 58/100\n",
      " - 0s - loss: 1.1492e-05 - val_loss: 9.4205e-06\n",
      "Epoch 59/100\n",
      " - 0s - loss: 1.8456e-05 - val_loss: 2.5541e-05\n",
      "Epoch 60/100\n",
      " - 0s - loss: 8.4096e-06 - val_loss: 7.6887e-06\n",
      "Epoch 61/100\n",
      " - 0s - loss: 3.8826e-06 - val_loss: 2.6706e-06\n",
      "Epoch 62/100\n",
      " - 0s - loss: 3.9192e-06 - val_loss: 5.7914e-06\n",
      "Epoch 63/100\n",
      " - 0s - loss: 5.9055e-06 - val_loss: 1.0265e-05\n",
      "Epoch 64/100\n",
      " - 0s - loss: 7.8382e-06 - val_loss: 3.0955e-06\n",
      "Epoch 65/100\n",
      " - 0s - loss: 2.9225e-06 - val_loss: 4.9644e-06\n",
      "Epoch 66/100\n",
      " - 0s - loss: 3.7810e-06 - val_loss: 4.2393e-06\n",
      "Epoch 67/100\n",
      " - 0s - loss: 4.0629e-06 - val_loss: 2.6451e-06\n",
      "Epoch 68/100\n",
      " - 0s - loss: 3.2403e-06 - val_loss: 3.9021e-06\n",
      "Epoch 69/100\n",
      " - 0s - loss: 6.8244e-06 - val_loss: 2.4919e-06\n",
      "Epoch 70/100\n",
      " - 0s - loss: 4.0465e-06 - val_loss: 1.1262e-05\n",
      "Epoch 71/100\n",
      " - 0s - loss: 3.7626e-06 - val_loss: 5.5305e-06\n",
      "Epoch 72/100\n",
      " - 0s - loss: 3.4671e-06 - val_loss: 3.9694e-06\n",
      "Epoch 73/100\n",
      " - 0s - loss: 3.4308e-06 - val_loss: 4.8226e-06\n",
      "Epoch 74/100\n",
      " - 0s - loss: 3.6810e-06 - val_loss: 3.0345e-06\n",
      "Epoch 75/100\n",
      " - 0s - loss: 3.6337e-06 - val_loss: 2.4285e-06\n",
      "Epoch 76/100\n",
      " - 0s - loss: 3.1486e-06 - val_loss: 3.3292e-06\n",
      "Epoch 77/100\n",
      " - 0s - loss: 4.7159e-06 - val_loss: 3.2168e-06\n",
      "Epoch 78/100\n",
      " - 0s - loss: 6.9217e-06 - val_loss: 2.7847e-06\n",
      "Epoch 79/100\n",
      " - 0s - loss: 8.1507e-06 - val_loss: 1.1336e-05\n",
      "Epoch 80/100\n",
      " - 0s - loss: 1.2769e-05 - val_loss: 2.5486e-05\n",
      "Epoch 81/100\n",
      " - 0s - loss: 1.0936e-05 - val_loss: 4.5882e-06\n",
      "Epoch 82/100\n",
      " - 0s - loss: 3.1785e-06 - val_loss: 8.0693e-06\n",
      "Epoch 83/100\n",
      " - 0s - loss: 1.2372e-05 - val_loss: 1.3223e-05\n",
      "Epoch 84/100\n",
      " - 0s - loss: 6.3352e-06 - val_loss: 6.8947e-06\n",
      "Epoch 85/100\n",
      " - 0s - loss: 4.9939e-06 - val_loss: 3.1673e-06\n",
      "Epoch 86/100\n",
      " - 0s - loss: 3.7860e-06 - val_loss: 4.0293e-06\n",
      "Epoch 87/100\n",
      " - 0s - loss: 4.0700e-06 - val_loss: 9.1318e-06\n",
      "Epoch 88/100\n",
      " - 0s - loss: 5.4344e-06 - val_loss: 3.9539e-06\n",
      "Epoch 89/100\n",
      " - 0s - loss: 3.5474e-06 - val_loss: 4.9255e-06\n",
      "Epoch 90/100\n",
      " - 0s - loss: 5.2803e-06 - val_loss: 5.4202e-06\n",
      "Epoch 91/100\n",
      " - 0s - loss: 8.6097e-06 - val_loss: 2.6099e-06\n",
      "Epoch 92/100\n",
      " - 0s - loss: 6.4096e-06 - val_loss: 2.6911e-06\n",
      "Epoch 93/100\n",
      " - 0s - loss: 3.2947e-06 - val_loss: 3.9657e-06\n",
      "Epoch 94/100\n",
      " - 0s - loss: 4.9465e-06 - val_loss: 3.6817e-06\n",
      "Epoch 95/100\n",
      " - 0s - loss: 4.7637e-06 - val_loss: 1.8816e-06\n",
      "Epoch 96/100\n",
      " - 0s - loss: 2.4585e-06 - val_loss: 5.1425e-06\n",
      "Epoch 97/100\n",
      " - 0s - loss: 4.3275e-06 - val_loss: 5.2185e-06\n",
      "Epoch 98/100\n",
      " - 0s - loss: 9.4892e-06 - val_loss: 7.5946e-06\n",
      "Epoch 99/100\n",
      " - 0s - loss: 4.1043e-06 - val_loss: 8.5654e-06\n",
      "Epoch 100/100\n",
      " - 0s - loss: 3.9493e-06 - val_loss: 4.7641e-06\n"
     ]
    },
    {
     "data": {
      "text/plain": [
       "<keras.callbacks.History at 0x26c34699208>"
      ]
     },
     "execution_count": 61,
     "metadata": {},
     "output_type": "execute_result"
    }
   ],
   "source": [
    "model.fit(x_train,y_train,validation_data=(x_test,y_test),verbose=2,epochs=100)"
   ]
  },
  {
   "cell_type": "code",
   "execution_count": 62,
   "metadata": {},
   "outputs": [],
   "source": [
    "trainPredict = model.predict(x_train)\n",
    "testPredict = model.predict(x_test)\n"
   ]
  },
  {
   "cell_type": "code",
   "execution_count": 63,
   "metadata": {
    "scrolled": true
   },
   "outputs": [
    {
     "data": {
      "text/plain": [
       "[<matplotlib.lines.Line2D at 0x26c3757c8d0>]"
      ]
     },
     "execution_count": 63,
     "metadata": {},
     "output_type": "execute_result"
    },
    {
     "data": {
      "image/png": "[encoded data removed]",
      "text/plain": [
       "<matplotlib.figure.Figure at 0x26c36eda0f0>"
      ]
     },
     "metadata": {},
     "output_type": "display_data"
    }
   ],
   "source": [
    "from matplotlib import pyplot as plt\n",
    "# plot baseline and predictions\n",
    "plt.plot(sinSamples, linestyle=':')\n",
    "\n",
    "plt.plot(trainPredict)\n",
    "list = np.arange(len(trainPredict)+10,len(trainPredict)+len(testPredict)+10)\n",
    "plt.plot(list,testPredict)"
   ]
  },
  {
   "cell_type": "code",
   "execution_count": null,
   "metadata": {},
   "outputs": [],
   "source": [
    "\n"
   ]
  },
  {
   "cell_type": "code",
   "execution_count": null,
   "metadata": {},
   "outputs": [],
   "source": []
  },
  {
   "cell_type": "code",
   "execution_count": null,
   "metadata": {},
   "outputs": [],
   "source": []
  },
  {
   "cell_type": "code",
   "execution_count": null,
   "metadata": {},
   "outputs": [],
   "source": []
  },
  {
   "cell_type": "code",
   "execution_count": null,
   "metadata": {},
   "outputs": [],
   "source": []
  },
  {
   "cell_type": "code",
   "execution_count": null,
   "metadata": {},
   "outputs": [],
   "source": []
  },
  {
   "cell_type": "code",
   "execution_count": null,
   "metadata": {},
   "outputs": [],
   "source": []
  },
  {
   "cell_type": "code",
   "execution_count": null,
   "metadata": {},
   "outputs": [],
   "source": []
  },
  {
   "cell_type": "code",
   "execution_count": null,
   "metadata": {},
   "outputs": [],
   "source": []
  },
  {
   "cell_type": "code",
   "execution_count": null,
   "metadata": {},
   "outputs": [],
   "source": []
  },
  {
   "cell_type": "code",
   "execution_count": null,
   "metadata": {},
   "outputs": [],
   "source": []
  },
  {
   "cell_type": "code",
   "execution_count": null,
   "metadata": {},
   "outputs": [],
   "source": []
  },
  {
   "cell_type": "code",
   "execution_count": null,
   "metadata": {},
   "outputs": [],
   "source": []
  },
  {
   "cell_type": "code",
   "execution_count": null,
   "metadata": {},
   "outputs": [],
   "source": []
  },
  {
   "cell_type": "code",
   "execution_count": null,
   "metadata": {},
   "outputs": [],
   "source": []
  },
  {
   "cell_type": "code",
   "execution_count": null,
   "metadata": {},
   "outputs": [],
   "source": []
  },
  {
   "cell_type": "code",
   "execution_count": null,
   "metadata": {},
   "outputs": [],
   "source": []
  },
  {
   "cell_type": "code",
   "execution_count": null,
   "metadata": {},
   "outputs": [],
   "source": []
  },
  {
   "cell_type": "code",
   "execution_count": null,
   "metadata": {},
   "outputs": [],
   "source": []
  },
  {
   "cell_type": "code",
   "execution_count": null,
   "metadata": {},
   "outputs": [],
   "source": []
  },
  {
   "cell_type": "code",
   "execution_count": null,
   "metadata": {},
   "outputs": [],
   "source": []
  }
 ],
 "metadata": {
  "kernelspec": {
   "display_name": "Python 3",
   "language": "python",
   "name": "python3"
  },
  "language_info": {
   "codemirror_mode": {
    "name": "ipython",
    "version": 3
   },
   "file_extension": ".py",
   "mimetype": "text/x-python",
   "name": "python",
   "nbconvert_exporter": "python",
   "pygments_lexer": "ipython3",
   "version": "3.6.4"
  }
 },
 "nbformat": 4,
 "nbformat_minor": 2
}
