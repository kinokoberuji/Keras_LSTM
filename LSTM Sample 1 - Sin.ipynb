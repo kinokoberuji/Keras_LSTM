{
 "cells": [
  {
   "cell_type": "markdown",
   "metadata": {},
   "source": [
    "# LSTM Sample 1 - Sin wave prediction\n",
    "\n",
    "Inport the main libraries including the keras libraries we need. \n",
    "Note: keras has FutureWarning error message. That is OL\n"
   ]
  },
  {
   "cell_type": "code",
   "execution_count": 1,
   "metadata": {},
   "outputs": [],
   "source": [
    "import numpy as np # linear algebra\n",
    "import pandas # data processing, CSV file I/O (e.g. pandas.read_csv)\n",
    "import matplotlib.pyplot as plt\n",
    "%matplotlib inline"
   ]
  },
  {
   "cell_type": "code",
   "execution_count": 2,
   "metadata": {},
   "outputs": [
    {
     "name": "stderr",
     "output_type": "stream",
     "text": [
      "C:\\Users\\tgibbons\\Anaconda3\\lib\\site-packages\\h5py\\__init__.py:36: FutureWarning: Conversion of the second argument of issubdtype from `float` to `np.floating` is deprecated. In future, it will be treated as `np.float64 == np.dtype(float).type`.\n",
      "  from ._conv import register_converters as _register_converters\n",
      "Using TensorFlow backend.\n"
     ]
    }
   ],
   "source": [
    "from keras.models import Sequential\n",
    "from keras.layers import Dense, Dropout, Activation, Lambda, Flatten, LSTM\n",
    "from keras.layers import Conv2D, MaxPooling2D\n",
    "from keras.optimizers import Adam, RMSprop\n",
    "from keras.utils import np_utils"
   ]
  },
  {
   "cell_type": "markdown",
   "metadata": {},
   "source": [
    "# Playing with arrays and data\n",
    "Create a one dimensional array to represent the time series data. Then reformat it for LSTM.\n",
    "See https://machinelearningmastery.com/reshape-input-data-long-short-term-memory-networks-keras/ for details."
   ]
  },
  {
   "cell_type": "code",
   "execution_count": 3,
   "metadata": {},
   "outputs": [
    {
     "name": "stdout",
     "output_type": "stream",
     "text": [
      "(10,)\n",
      "(1, 10, 1)\n"
     ]
    }
   ],
   "source": [
    "from numpy import array\n",
    "data = array([0.1, 0.2, 0.3, 0.4, 0.5, 0.6, 0.7, 0.8, 0.9, 1.0])\n",
    "data2 = data.reshape((1, 10, 1))\n",
    "print (data.shape)\n",
    "print (data2.shape)"
   ]
  },
  {
   "cell_type": "code",
   "execution_count": 4,
   "metadata": {},
   "outputs": [
    {
     "name": "stdout",
     "output_type": "stream",
     "text": [
      "[0.1 0.2 0.3 0.4 0.5 0.6 0.7 0.8 0.9 1. ]\n",
      "[[[0.1]\n",
      "  [0.2]\n",
      "  [0.3]\n",
      "  [0.4]\n",
      "  [0.5]\n",
      "  [0.6]\n",
      "  [0.7]\n",
      "  [0.8]\n",
      "  [0.9]\n",
      "  [1. ]]]\n"
     ]
    }
   ],
   "source": [
    "print (data)\n",
    "print (data2)"
   ]
  },
  {
   "cell_type": "code",
   "execution_count": 5,
   "metadata": {},
   "outputs": [],
   "source": [
    "data2D = array([\n",
    "\t[0.1, 1.0],\n",
    "\t[0.2, 0.9],\n",
    "\t[0.3, 0.8],\n",
    "\t[0.4, 0.7],\n",
    "\t[0.5, 0.6],\n",
    "\t[0.6, 0.5],\n",
    "\t[0.7, 0.4],\n",
    "\t[0.8, 0.3],\n",
    "\t[0.9, 0.2],\n",
    "\t[1.0, 0.1]])\n",
    "\t\n",
    "data2Dshaped = data2D.reshape(1, 10, 2)"
   ]
  },
  {
   "cell_type": "code",
   "execution_count": 6,
   "metadata": {},
   "outputs": [
    {
     "name": "stdout",
     "output_type": "stream",
     "text": [
      "[[0.1 1. ]\n",
      " [0.2 0.9]\n",
      " [0.3 0.8]\n",
      " [0.4 0.7]\n",
      " [0.5 0.6]\n",
      " [0.6 0.5]\n",
      " [0.7 0.4]\n",
      " [0.8 0.3]\n",
      " [0.9 0.2]\n",
      " [1.  0.1]]\n",
      "[[[0.1 1. ]\n",
      "  [0.2 0.9]\n",
      "  [0.3 0.8]\n",
      "  [0.4 0.7]\n",
      "  [0.5 0.6]\n",
      "  [0.6 0.5]\n",
      "  [0.7 0.4]\n",
      "  [0.8 0.3]\n",
      "  [0.9 0.2]\n",
      "  [1.  0.1]]]\n"
     ]
    }
   ],
   "source": [
    "print (data2D)\n",
    "print (data2Dshaped)"
   ]
  },
  {
   "cell_type": "markdown",
   "metadata": {},
   "source": [
    "# Generate the samples from the sin() function\n",
    "np.arrange generates numbers between 0 andt the number of samples\n",
    "np.linspace(start value, end value, number of values"
   ]
  },
  {
   "cell_type": "code",
   "execution_count": 7,
   "metadata": {},
   "outputs": [
    {
     "name": "stdout",
     "output_type": "stream",
     "text": [
      "(1000,)\n",
      "[0 1 2 3 4 5 6 7 8 9]\n",
      "(1000,)\n",
      "[0.         0.02002002 0.04004004 0.06006006 0.08008008 0.1001001\n",
      " 0.12012012 0.14014014 0.16016016 0.18018018]\n",
      "[0.         0.02001868 0.04002934 0.06002396 0.07999452 0.09993302\n",
      " 0.11983146 0.13968188 0.15947632 0.17920684]\n"
     ]
    }
   ],
   "source": [
    "numberSamples = 1000\n",
    "numericSamples = np.arange(numberSamples)\n",
    "timeSamples = np.linspace(0,20,numberSamples)\n",
    "print (numericSamples.shape)\n",
    "print (numericSamples[:10])\n",
    "print (timeSamples.shape)\n",
    "print (timeSamples[:10])\n",
    "sinSamples = np.sin(timeSamples)\n",
    "print (sinSamples[:10])"
   ]
  },
  {
   "cell_type": "code",
   "execution_count": 8,
   "metadata": {},
   "outputs": [
    {
     "data": {
      "image/png": "[encoded data removed]",
      "text/plain": [
       "<matplotlib.figure.Figure at 0x1ecd2f6e828>"
      ]
     },
     "metadata": {},
     "output_type": "display_data"
    }
   ],
   "source": [
    "from matplotlib import pyplot as plt\n",
    "plt.plot(sinSamples)\n",
    "#plt.ylabel('some numbers')\n",
    "plt.xlabel('Sine wave')\n",
    "plt.show()"
   ]
  },
  {
   "cell_type": "markdown",
   "metadata": {},
   "source": [
    "# Setup Training and Testing data\n",
    "\n",
    "Split the data into a training sequence and a testing sequence"
   ]
  },
  {
   "cell_type": "code",
   "execution_count": 19,
   "metadata": {},
   "outputs": [
    {
     "name": "stdout",
     "output_type": "stream",
     "text": [
      "train shape :  (700,)\n",
      "test shape :  (300,)\n"
     ]
    }
   ],
   "source": [
    "# split into train and test sets\n",
    "train_size = int(len(sinSamples) * 0.70)\n",
    "test_size = len(sinSamples) - train_size\n",
    "sin_train = sinSamples[0:train_size]\n",
    "sin_test  = sinSamples[train_size:len(sinSamples)]\n",
    "print (\"train shape : \" , sin_train.shape)\n",
    "print (\"test shape : \" , sin_test.shape)\n",
    "\n",
    "\n"
   ]
  },
  {
   "cell_type": "markdown",
   "metadata": {},
   "source": [
    "The above sets up the 1-d sin data for input into a LSTM system \n"
   ]
  },
  {
   "cell_type": "code",
   "execution_count": 20,
   "metadata": {},
   "outputs": [],
   "source": [
    "def to_sequences(seq_size, obs):\n",
    "    x = []\n",
    "    y = []\n",
    "\n",
    "    for i in range(len(obs)-SEQUENCE_SIZE-1):\n",
    "        #print(i)\n",
    "        window = obs[i:(i+SEQUENCE_SIZE)]\n",
    "        after_window = obs[i+SEQUENCE_SIZE]\n",
    "        window = [[x] for x in window]\n",
    "        #print(\"{} - {}\".format(window,after_window))\n",
    "        x.append(window)\n",
    "        y.append(after_window)\n",
    "        \n",
    "    return np.array(x),np.array(y)\n",
    "    "
   ]
  },
  {
   "cell_type": "code",
   "execution_count": null,
   "metadata": {},
   "outputs": [],
   "source": []
  },
  {
   "cell_type": "code",
   "execution_count": 21,
   "metadata": {},
   "outputs": [
    {
     "name": "stdout",
     "output_type": "stream",
     "text": [
      "Shape of training set: (689, 10, 1)\n",
      "Shape of test set: (289, 10, 1)\n"
     ]
    }
   ],
   "source": [
    "SEQUENCE_SIZE = 10\n",
    "x_train,y_train = to_sequences(SEQUENCE_SIZE,sin_train)\n",
    "x_test,y_test = to_sequences(SEQUENCE_SIZE,sin_test)\n",
    "\n",
    "print(\"Shape of training set: {}\".format(x_train.shape))\n",
    "print(\"Shape of test set: {}\".format(x_test.shape))"
   ]
  },
  {
   "cell_type": "markdown",
   "metadata": {},
   "source": [
    "# Build the Neural Network model in Keras\n",
    "\n",
    "Build model and then train on training data and test on testin data\n",
    "<br>\n",
    "Model breaks long sequence up into many small 10 value sequences. Input is single input at time t and predicts single output at time t+1. There are 689 sequences for training, each 10 values long.\n",
    "\n"
   ]
  },
  {
   "cell_type": "code",
   "execution_count": 22,
   "metadata": {},
   "outputs": [
    {
     "name": "stdout",
     "output_type": "stream",
     "text": [
      "Build model...\n",
      "Train...\n"
     ]
    }
   ],
   "source": [
    "print('Build model...')\n",
    "model = Sequential()\n",
    "model.add(LSTM(64, input_shape=(None, 1)))\n",
    "model.add(Dense(32))\n",
    "model.add(Dense(1))\n",
    "model.compile(loss='mean_squared_error', optimizer='adam')\n",
    "\n",
    "#monitor = EarlyStopping(monitor='val_loss', min_delta=1e-3, patience=5, verbose=1, mode='auto')\n",
    "print('Train...')\n",
    "\n"
   ]
  },
  {
   "cell_type": "code",
   "execution_count": 23,
   "metadata": {},
   "outputs": [
    {
     "name": "stdout",
     "output_type": "stream",
     "text": [
      "Train on 689 samples, validate on 289 samples\n",
      "Epoch 1/100\n",
      " - 1s - loss: 0.1927 - val_loss: 0.0356\n",
      "Epoch 2/100\n",
      " - 0s - loss: 0.0126 - val_loss: 0.0065\n",
      "Epoch 3/100\n",
      " - 0s - loss: 0.0046 - val_loss: 0.0041\n",
      "Epoch 4/100\n",
      " - 0s - loss: 0.0038 - val_loss: 0.0042\n",
      "Epoch 5/100\n",
      " - 0s - loss: 0.0036 - val_loss: 0.0040\n",
      "Epoch 6/100\n",
      " - 0s - loss: 0.0035 - val_loss: 0.0040\n",
      "Epoch 7/100\n",
      " - 0s - loss: 0.0034 - val_loss: 0.0037\n",
      "Epoch 8/100\n",
      " - 0s - loss: 0.0032 - val_loss: 0.0033\n",
      "Epoch 9/100\n",
      " - 0s - loss: 0.0031 - val_loss: 0.0031\n",
      "Epoch 10/100\n",
      " - 0s - loss: 0.0030 - val_loss: 0.0029\n",
      "Epoch 11/100\n",
      " - 0s - loss: 0.0028 - val_loss: 0.0030\n",
      "Epoch 12/100\n",
      " - 0s - loss: 0.0025 - val_loss: 0.0026\n",
      "Epoch 13/100\n",
      " - 0s - loss: 0.0023 - val_loss: 0.0025\n",
      "Epoch 14/100\n",
      " - 0s - loss: 0.0021 - val_loss: 0.0021\n",
      "Epoch 15/100\n",
      " - 0s - loss: 0.0019 - val_loss: 0.0018\n",
      "Epoch 16/100\n",
      " - 0s - loss: 0.0016 - val_loss: 0.0017\n",
      "Epoch 17/100\n",
      " - 0s - loss: 0.0014 - val_loss: 0.0014\n",
      "Epoch 18/100\n",
      " - 0s - loss: 0.0011 - val_loss: 0.0010\n",
      "Epoch 19/100\n",
      " - 0s - loss: 9.1846e-04 - val_loss: 8.6543e-04\n",
      "Epoch 20/100\n",
      " - 0s - loss: 6.9130e-04 - val_loss: 8.6830e-04\n",
      "Epoch 21/100\n",
      " - 0s - loss: 5.9529e-04 - val_loss: 6.3375e-04\n",
      "Epoch 22/100\n",
      " - 0s - loss: 3.8059e-04 - val_loss: 3.4175e-04\n",
      "Epoch 23/100\n",
      " - 0s - loss: 2.6467e-04 - val_loss: 1.9407e-04\n",
      "Epoch 24/100\n",
      " - 0s - loss: 1.5724e-04 - val_loss: 1.2332e-04\n",
      "Epoch 25/100\n",
      " - 0s - loss: 1.0079e-04 - val_loss: 7.4037e-05\n",
      "Epoch 26/100\n",
      " - 0s - loss: 6.3644e-05 - val_loss: 6.3965e-05\n",
      "Epoch 27/100\n",
      " - 0s - loss: 5.1463e-05 - val_loss: 3.9297e-05\n",
      "Epoch 28/100\n",
      " - 0s - loss: 3.9794e-05 - val_loss: 3.4782e-05\n",
      "Epoch 29/100\n",
      " - 0s - loss: 3.3239e-05 - val_loss: 3.5692e-05\n",
      "Epoch 30/100\n",
      " - 0s - loss: 4.1685e-05 - val_loss: 3.5523e-05\n",
      "Epoch 31/100\n",
      " - 0s - loss: 2.3230e-05 - val_loss: 2.9996e-05\n",
      "Epoch 32/100\n",
      " - 0s - loss: 2.2933e-05 - val_loss: 1.9017e-05\n",
      "Epoch 33/100\n",
      " - 0s - loss: 1.5601e-05 - val_loss: 1.6764e-05\n",
      "Epoch 34/100\n",
      " - 0s - loss: 1.5309e-05 - val_loss: 1.2505e-05\n",
      "Epoch 35/100\n",
      " - 0s - loss: 1.3253e-05 - val_loss: 1.3352e-05\n",
      "Epoch 36/100\n",
      " - 0s - loss: 1.1833e-05 - val_loss: 9.1893e-06\n",
      "Epoch 37/100\n",
      " - 0s - loss: 9.5198e-06 - val_loss: 1.2346e-05\n",
      "Epoch 38/100\n",
      " - 0s - loss: 1.6064e-05 - val_loss: 1.0968e-05\n",
      "Epoch 39/100\n",
      " - 0s - loss: 1.3806e-05 - val_loss: 9.4564e-06\n",
      "Epoch 40/100\n",
      " - 0s - loss: 7.7420e-06 - val_loss: 7.3622e-06\n",
      "Epoch 41/100\n",
      " - 0s - loss: 6.0912e-06 - val_loss: 6.6493e-06\n",
      "Epoch 42/100\n",
      " - 0s - loss: 4.6907e-06 - val_loss: 5.6500e-06\n",
      "Epoch 43/100\n",
      " - 0s - loss: 5.3878e-06 - val_loss: 4.3327e-06\n",
      "Epoch 44/100\n",
      " - 0s - loss: 5.2212e-06 - val_loss: 3.8256e-06\n",
      "Epoch 45/100\n",
      " - 0s - loss: 6.4584e-06 - val_loss: 4.0129e-06\n",
      "Epoch 46/100\n",
      " - 0s - loss: 5.6442e-06 - val_loss: 1.4251e-05\n",
      "Epoch 47/100\n",
      " - 0s - loss: 1.3392e-05 - val_loss: 1.4542e-05\n",
      "Epoch 48/100\n",
      " - 0s - loss: 7.8937e-06 - val_loss: 4.3431e-06\n",
      "Epoch 49/100\n",
      " - 0s - loss: 5.1998e-06 - val_loss: 7.4791e-06\n",
      "Epoch 50/100\n",
      " - 0s - loss: 5.0875e-06 - val_loss: 6.5561e-06\n",
      "Epoch 51/100\n",
      " - 0s - loss: 5.7692e-06 - val_loss: 4.1293e-06\n",
      "Epoch 52/100\n",
      " - 0s - loss: 3.6276e-06 - val_loss: 4.9029e-06\n",
      "Epoch 53/100\n",
      " - 0s - loss: 4.9510e-06 - val_loss: 3.5711e-06\n",
      "Epoch 54/100\n",
      " - 0s - loss: 4.2021e-06 - val_loss: 5.1073e-06\n",
      "Epoch 55/100\n",
      " - 0s - loss: 5.8186e-06 - val_loss: 4.8725e-06\n",
      "Epoch 56/100\n",
      " - 0s - loss: 5.2120e-06 - val_loss: 3.0969e-06\n",
      "Epoch 57/100\n",
      " - 0s - loss: 5.3771e-06 - val_loss: 5.8774e-06\n",
      "Epoch 58/100\n",
      " - 0s - loss: 7.6186e-06 - val_loss: 1.3109e-05\n",
      "Epoch 59/100\n",
      " - 0s - loss: 5.8509e-06 - val_loss: 6.0997e-06\n",
      "Epoch 60/100\n",
      " - 0s - loss: 3.8167e-06 - val_loss: 2.9947e-06\n",
      "Epoch 61/100\n",
      " - 0s - loss: 3.6460e-06 - val_loss: 4.7692e-06\n",
      "Epoch 62/100\n",
      " - 0s - loss: 4.0048e-06 - val_loss: 4.8793e-06\n",
      "Epoch 63/100\n",
      " - 0s - loss: 4.6446e-06 - val_loss: 1.0997e-05\n",
      "Epoch 64/100\n",
      " - 0s - loss: 7.3684e-06 - val_loss: 5.0610e-06\n",
      "Epoch 65/100\n",
      " - 0s - loss: 6.8621e-06 - val_loss: 6.6481e-06\n",
      "Epoch 66/100\n",
      " - 0s - loss: 4.6410e-06 - val_loss: 4.2339e-06\n",
      "Epoch 67/100\n",
      " - 0s - loss: 3.5569e-06 - val_loss: 2.6861e-06\n",
      "Epoch 68/100\n",
      " - 0s - loss: 3.5915e-06 - val_loss: 2.7729e-06\n",
      "Epoch 69/100\n",
      " - 0s - loss: 3.7146e-06 - val_loss: 3.3136e-06\n",
      "Epoch 70/100\n",
      " - 0s - loss: 3.5180e-06 - val_loss: 4.0156e-06\n",
      "Epoch 71/100\n",
      " - 0s - loss: 3.6375e-06 - val_loss: 5.1164e-06\n",
      "Epoch 72/100\n",
      " - 0s - loss: 4.2773e-06 - val_loss: 2.7563e-06\n",
      "Epoch 73/100\n",
      " - 0s - loss: 4.2768e-06 - val_loss: 2.9465e-06\n",
      "Epoch 74/100\n",
      " - 0s - loss: 4.8951e-06 - val_loss: 2.8702e-06\n",
      "Epoch 75/100\n",
      " - 0s - loss: 3.3156e-06 - val_loss: 3.4143e-06\n",
      "Epoch 76/100\n",
      " - 0s - loss: 3.2161e-06 - val_loss: 4.5912e-06\n",
      "Epoch 77/100\n",
      " - 0s - loss: 3.2907e-06 - val_loss: 3.1990e-06\n",
      "Epoch 78/100\n",
      " - 0s - loss: 4.4912e-06 - val_loss: 6.5281e-06\n",
      "Epoch 79/100\n",
      " - 0s - loss: 1.7621e-05 - val_loss: 2.9596e-05\n",
      "Epoch 80/100\n",
      " - 0s - loss: 1.2124e-05 - val_loss: 3.2472e-06\n",
      "Epoch 81/100\n",
      " - 0s - loss: 3.5948e-06 - val_loss: 8.4883e-06\n",
      "Epoch 82/100\n",
      " - 0s - loss: 3.4946e-06 - val_loss: 3.9188e-06\n",
      "Epoch 83/100\n",
      " - 0s - loss: 3.0277e-06 - val_loss: 2.5022e-06\n",
      "Epoch 84/100\n",
      " - 0s - loss: 4.3410e-06 - val_loss: 1.3927e-05\n",
      "Epoch 85/100\n",
      " - 0s - loss: 6.6444e-06 - val_loss: 3.0194e-06\n",
      "Epoch 86/100\n",
      " - 0s - loss: 5.3579e-06 - val_loss: 4.2774e-06\n",
      "Epoch 87/100\n",
      " - 0s - loss: 5.1433e-06 - val_loss: 2.5451e-06\n",
      "Epoch 88/100\n",
      " - 0s - loss: 1.0353e-05 - val_loss: 2.8322e-05\n",
      "Epoch 89/100\n",
      " - 0s - loss: 1.0711e-05 - val_loss: 4.7834e-06\n",
      "Epoch 90/100\n",
      " - 0s - loss: 4.4477e-06 - val_loss: 3.1959e-06\n",
      "Epoch 91/100\n",
      " - 0s - loss: 2.8103e-06 - val_loss: 5.3130e-06\n",
      "Epoch 92/100\n",
      " - 0s - loss: 4.6138e-06 - val_loss: 5.3832e-06\n",
      "Epoch 93/100\n",
      " - 0s - loss: 7.0842e-06 - val_loss: 1.2184e-05\n",
      "Epoch 94/100\n",
      " - 0s - loss: 3.8596e-06 - val_loss: 3.4284e-06\n",
      "Epoch 95/100\n",
      " - 0s - loss: 4.1088e-06 - val_loss: 5.3692e-06\n",
      "Epoch 96/100\n",
      " - 0s - loss: 6.4027e-06 - val_loss: 6.0163e-06\n",
      "Epoch 97/100\n",
      " - 0s - loss: 8.1089e-06 - val_loss: 1.0363e-05\n",
      "Epoch 98/100\n",
      " - 0s - loss: 7.5295e-06 - val_loss: 2.3785e-06\n",
      "Epoch 99/100\n",
      " - 0s - loss: 2.7337e-06 - val_loss: 3.7647e-06\n",
      "Epoch 100/100\n",
      " - 0s - loss: 3.3521e-06 - val_loss: 2.5920e-06\n"
     ]
    },
    {
     "data": {
      "text/plain": [
       "<keras.callbacks.History at 0x1ecd7b1d8d0>"
      ]
     },
     "execution_count": 23,
     "metadata": {},
     "output_type": "execute_result"
    }
   ],
   "source": [
    "model.fit(x_train,y_train,validation_data=(x_test,y_test),verbose=2,epochs=100)"
   ]
  },
  {
   "cell_type": "code",
   "execution_count": 24,
   "metadata": {},
   "outputs": [],
   "source": [
    "trainPredict = model.predict(x_train)\n",
    "testPredict = model.predict(x_test)\n"
   ]
  },
  {
   "cell_type": "markdown",
   "metadata": {},
   "source": [
    "# Plot original values and predictions\n",
    "\n",
    "Original (truth) values are shown in dotted line. Results of prediction of training data shown in orange while testing data is shown in green."
   ]
  },
  {
   "cell_type": "code",
   "execution_count": 25,
   "metadata": {
    "scrolled": true
   },
   "outputs": [
    {
     "data": {
      "text/plain": [
       "[<matplotlib.lines.Line2D at 0x1ecd9a51390>]"
      ]
     },
     "execution_count": 25,
     "metadata": {},
     "output_type": "execute_result"
    },
    {
     "data": {
      "image/png": "[encoded data removed]",
      "text/plain": [
       "<matplotlib.figure.Figure at 0x1ecd9d5f0f0>"
      ]
     },
     "metadata": {},
     "output_type": "display_data"
    }
   ],
   "source": [
    "from matplotlib import pyplot as plt\n",
    "# plot baseline and predictions\n",
    "plt.plot(sinSamples, linestyle=':')\n",
    "\n",
    "plt.plot(trainPredict)\n",
    "list = np.arange(len(trainPredict)+10,len(trainPredict)+len(testPredict)+10)\n",
    "plt.plot(list,testPredict)"
   ]
  },
  {
   "cell_type": "code",
   "execution_count": null,
   "metadata": {},
   "outputs": [],
   "source": [
    "\n"
   ]
  },
  {
   "cell_type": "code",
   "execution_count": null,
   "metadata": {},
   "outputs": [],
   "source": []
  },
  {
   "cell_type": "code",
   "execution_count": null,
   "metadata": {},
   "outputs": [],
   "source": []
  }
 ],
 "metadata": {
  "kernelspec": {
   "display_name": "Python 3",
   "language": "python",
   "name": "python3"
  },
  "language_info": {
   "codemirror_mode": {
    "name": "ipython",
    "version": 3
   },
   "file_extension": ".py",
   "mimetype": "text/x-python",
   "name": "python",
   "nbconvert_exporter": "python",
   "pygments_lexer": "ipython3",
   "version": "3.6.4"
  }
 },
 "nbformat": 4,
 "nbformat_minor": 2
}
